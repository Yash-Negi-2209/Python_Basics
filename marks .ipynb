{
 "cells": [
  {
   "cell_type": "code",
   "execution_count": 2,
   "id": "9ed4ed53",
   "metadata": {},
   "outputs": [
    {
     "name": "stdout",
     "output_type": "stream",
     "text": [
      "Marks:87\n",
      "Excellent\n"
     ]
    }
   ],
   "source": [
    "p=int(input(\"Marks:\")) \n",
    "if p >= 80:\n",
    "    print(\"Excellent\")\n",
    "    if 80>p>=65:\n",
    "        print(\"Good\")\n",
    "        if 65 > p >= 50:\n",
    "            print(\"PASS\")\n",
    "        else:\n",
    "            print(\"FAIL\")"
   ]
  }
 ],
 "metadata": {
  "kernelspec": {
   "display_name": "Python 3",
   "language": "python",
   "name": "python3"
  },
  "language_info": {
   "codemirror_mode": {
    "name": "ipython",
    "version": 3
   },
   "file_extension": ".py",
   "mimetype": "text/x-python",
   "name": "python",
   "nbconvert_exporter": "python",
   "pygments_lexer": "ipython3",
   "version": "3.8.8"
  }
 },
 "nbformat": 4,
 "nbformat_minor": 5
}
