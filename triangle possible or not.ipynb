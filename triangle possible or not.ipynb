{
 "cells": [
  {
   "cell_type": "code",
   "execution_count": 4,
   "id": "915a47ea",
   "metadata": {},
   "outputs": [
    {
     "name": "stdout",
     "output_type": "stream",
     "text": [
      "4\n",
      "5\n",
      "6\n",
      "Triangle is possible\n"
     ]
    }
   ],
   "source": [
    "def triangle(a, b, c):\n",
    "    if (a + b <= c) or (a + c <= b) or (b + c <= a):\n",
    "        return False \n",
    "    else:\n",
    "        return True\n",
    "s1 = int(input())  \n",
    "s2 = int(input())\n",
    "s3 = int(input())\n",
    "if triangle(s1, s2, s3):\n",
    "    print(\"Triangle is possible\")\n",
    "else:\n",
    "    print(\"Triangle is not possible\")"
   ]
  }
 ],
 "metadata": {
  "kernelspec": {
   "display_name": "Python 3",
   "language": "python",
   "name": "python3"
  },
  "language_info": {
   "codemirror_mode": {
    "name": "ipython",
    "version": 3
   },
   "file_extension": ".py",
   "mimetype": "text/x-python",
   "name": "python",
   "nbconvert_exporter": "python",
   "pygments_lexer": "ipython3",
   "version": "3.8.8"
  }
 },
 "nbformat": 4,
 "nbformat_minor": 5
}
