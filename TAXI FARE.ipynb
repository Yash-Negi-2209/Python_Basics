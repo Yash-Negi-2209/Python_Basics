{
 "cells": [
  {
   "cell_type": "code",
   "execution_count": 8,
   "id": "bee368d0",
   "metadata": {},
   "outputs": [
    {
     "name": "stdout",
     "output_type": "stream",
     "text": [
      "120\n",
      "990\n"
     ]
    }
   ],
   "source": [
    "n = int(input())\n",
    "fare = 0\n",
    "if n <= 10:\n",
    "    fare = (n*15)\n",
    "elif 10 < n <= 90:\n",
    "    fare = 150 + (8*(n-10))\n",
    "elif n > 90:\n",
    "    fare = 150 + 720 + (6*(n-100))\n",
    "print(fare)"
   ]
  }
 ],
 "metadata": {
  "kernelspec": {
   "display_name": "Python 3",
   "language": "python",
   "name": "python3"
  },
  "language_info": {
   "codemirror_mode": {
    "name": "ipython",
    "version": 3
   },
   "file_extension": ".py",
   "mimetype": "text/x-python",
   "name": "python",
   "nbconvert_exporter": "python",
   "pygments_lexer": "ipython3",
   "version": "3.8.8"
  }
 },
 "nbformat": 4,
 "nbformat_minor": 5
}
