{
 "cells": [
  {
   "cell_type": "code",
   "execution_count": 9,
   "id": "0649f2c6",
   "metadata": {},
   "outputs": [
    {
     "name": "stdout",
     "output_type": "stream",
     "text": [
      "Enter number of chocholates of type 1 :14\n",
      "Enter number of chocholates of type 2 :15\n",
      "14 of each chocholates\n"
     ]
    }
   ],
   "source": [
    "def chocho(n,m,result=0):\n",
    "    if n==0:\n",
    "        return result\n",
    "    elif m==0:\n",
    "        return result\n",
    "    else:\n",
    "        return chocho(n-1,m-1,result+1)\n",
    "n = int(input(\"Enter number of chocholates of type 1 :\"))\n",
    "m = int(input(\"Enter number of chocholates of type 2 :\"))\n",
    "print(chocho(n,m),\"of each chocholates\")"
   ]
  }
 ],
 "metadata": {
  "kernelspec": {
   "display_name": "Python 3",
   "language": "python",
   "name": "python3"
  },
  "language_info": {
   "codemirror_mode": {
    "name": "ipython",
    "version": 3
   },
   "file_extension": ".py",
   "mimetype": "text/x-python",
   "name": "python",
   "nbconvert_exporter": "python",
   "pygments_lexer": "ipython3",
   "version": "3.8.8"
  }
 },
 "nbformat": 4,
 "nbformat_minor": 5
}
