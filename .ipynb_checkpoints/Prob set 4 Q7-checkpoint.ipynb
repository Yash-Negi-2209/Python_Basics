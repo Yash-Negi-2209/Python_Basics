{
 "cells": [
  {
   "cell_type": "code",
   "execution_count": 10,
   "id": "127d4c6f",
   "metadata": {},
   "outputs": [
    {
     "name": "stdout",
     "output_type": "stream",
     "text": [
      "5th line is:  hey man\n",
      "6th line is:  bye friend\n",
      "no. of lines:  7\n",
      "no. of words:  15\n",
      "no of spaces i.e spaces and newline chars are:  14\n",
      "Words starting with s or e : \n",
      "['excellent']\n"
     ]
    }
   ],
   "source": [
    "import re \n",
    "fp=open(\"abc.txt\",\"w+\")\n",
    "fp.writelines([\"hi friend\\n\",\"hello\\n\",\"how r u?\\n\",\"i am excellent\\n\",\"Thank you\\n\",\"hey man\\n\",\"bye friend\"])\n",
    "fp.close()\n",
    "fp=open(\"abc.txt\",\"r+\") \n",
    "a=fp.readlines()\n",
    "b=[]\n",
    "for i in range(len(a)):\n",
    "    b.append(a[i].rstrip('\\n'))\n",
    "print(\"5th line is: \",b[5])\n",
    "print(\"6th line is: \",b[6])\n",
    "print(\"no. of lines: \",len(b)) \n",
    "fp.seek(0,0)\n",
    "c=fp.read().split()\n",
    "print(\"no. of words: \",len(c)) \n",
    "fp.seek(0,0)\n",
    " \n",
    "d=fp.read()\n",
    "\n",
    "\n",
    "spcount=0 \n",
    "for i in d:\n",
    "    if i==\" \":\n",
    "        spcount+=1\n",
    "print(\"no of spaces i.e spaces and newline chars are: \",spcount+len(b)-1)\n",
    "print(\"Words starting with s or e : \")\n",
    "for i in c:\n",
    "    b=re.findall(\"^[sSeE]\\w+\",i)\n",
    "    if len(b)!=0:\n",
    "        print(b)\n"
   ]
  }
 ],
 "metadata": {
  "kernelspec": {
   "display_name": "Python 3",
   "language": "python",
   "name": "python3"
  },
  "language_info": {
   "codemirror_mode": {
    "name": "ipython",
    "version": 3
   },
   "file_extension": ".py",
   "mimetype": "text/x-python",
   "name": "python",
   "nbconvert_exporter": "python",
   "pygments_lexer": "ipython3",
   "version": "3.8.8"
  }
 },
 "nbformat": 4,
 "nbformat_minor": 5
}
