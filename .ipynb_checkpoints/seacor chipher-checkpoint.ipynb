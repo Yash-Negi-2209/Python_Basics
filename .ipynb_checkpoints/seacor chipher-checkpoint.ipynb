{
 "cells": [
  {
   "cell_type": "code",
   "execution_count": 1,
   "id": "d9e67304",
   "metadata": {},
   "outputs": [
    {
     "name": "stdout",
     "output_type": "stream",
     "text": [
      "python\n",
      "sbwkrq\n"
     ]
    }
   ],
   "source": [
    "p=input() \n",
    "l1=[]\n",
    "l1[:0]=p \n",
    "q=[]\n",
    "for i in range (len(l1)):\n",
    "    y = ord(l1[i])\n",
    "    z=y+3 \n",
    "    p=chr(z) \n",
    "    if(y<120):\n",
    "        q.append(p)\n",
    "    elif(y==120):\n",
    "        q.append('a')\n",
    "    elif(y==121):\n",
    "        q.append('b')\n",
    "    elif(y==122):\n",
    "        q.append('c')\n",
    "final = \"\".join(q)\n",
    "print(final)\n"
   ]
  }
 ],
 "metadata": {
  "kernelspec": {
   "display_name": "Python 3",
   "language": "python",
   "name": "python3"
  },
  "language_info": {
   "codemirror_mode": {
    "name": "ipython",
    "version": 3
   },
   "file_extension": ".py",
   "mimetype": "text/x-python",
   "name": "python",
   "nbconvert_exporter": "python",
   "pygments_lexer": "ipython3",
   "version": "3.8.8"
  }
 },
 "nbformat": 4,
 "nbformat_minor": 5
}
