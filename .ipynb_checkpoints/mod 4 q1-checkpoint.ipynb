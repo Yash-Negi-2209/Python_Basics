{
 "cells": [
  {
   "cell_type": "code",
   "execution_count": 11,
   "id": "e18d4b75",
   "metadata": {},
   "outputs": [
    {
     "name": "stdout",
     "output_type": "stream",
     "text": [
      "6\n",
      "4 3 100 2 3 2\n",
      "2\n"
     ]
    }
   ],
   "source": [
    "y = int(input())\n",
    "numb = input().split()\n",
    "for i in range(y):\n",
    "    sum1 = 0\n",
    "    sum2 = 0\n",
    "    for j in range(i):\n",
    "        sum2 += int(numb[j])\n",
    "    for k in range(y-1,i,-1):\n",
    "        sum1 += int(numb[k])\n",
    "    if sum2 == sum1:\n",
    "        print(i)\n",
    "        break\n",
    "else:\n",
    "    print(0)\n",
    "    "
   ]
  }
 ],
 "metadata": {
  "kernelspec": {
   "display_name": "Python 3",
   "language": "python",
   "name": "python3"
  },
  "language_info": {
   "codemirror_mode": {
    "name": "ipython",
    "version": 3
   },
   "file_extension": ".py",
   "mimetype": "text/x-python",
   "name": "python",
   "nbconvert_exporter": "python",
   "pygments_lexer": "ipython3",
   "version": "3.8.8"
  }
 },
 "nbformat": 4,
 "nbformat_minor": 5
}
