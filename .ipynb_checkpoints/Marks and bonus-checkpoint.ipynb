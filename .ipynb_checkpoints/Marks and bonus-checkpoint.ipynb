{
 "cells": [
  {
   "cell_type": "code",
   "execution_count": null,
   "id": "e0bdc2d4",
   "metadata": {},
   "outputs": [],
   "source": [
    "n = float(input())\n",
    "if n == 0:\n",
    "    print(\"Enter the appropriate mark\")\n",
    "    exit()\n",
    "bonus = 0.0\n",
    "q = input()\n",
    "if n >= 80 and q == \"T\":\n",
    "    bonus =+ (8*n)/100\n",
    "elif n >= 80 and q == \"L\":\n",
    "    bonus =+ (6*n)/100\n",
    "elif (60 <= n < 80) and q == \"T\":\n",
    "    bonus =+ (6*n)/100\n",
    "elif (60 <= n < 80) and q == \"L\":\n",
    "    bonus =+ (4*n)/100\n",
    "elif (40 <= n < 60) and q == \"T\":\n",
    "    bonus =+ (4*n)/100\n",
    "elif (40 <= n < 60) and q == \"L\":\n",
    "    bonus =+ (2*n)/100\n",
    "elif (n < 40) and q == \"T\":\n",
    "    bonus =+ 0\n",
    "elif  (n < 40) and q == \"L\":\n",
    "    bonus =+ 0\n",
    "n = n + bonus\n",
    "print(n)"
   ]
  }
 ],
 "metadata": {
  "kernelspec": {
   "display_name": "Python 3",
   "language": "python",
   "name": "python3"
  },
  "language_info": {
   "codemirror_mode": {
    "name": "ipython",
    "version": 3
   },
   "file_extension": ".py",
   "mimetype": "text/x-python",
   "name": "python",
   "nbconvert_exporter": "python",
   "pygments_lexer": "ipython3",
   "version": "3.8.8"
  }
 },
 "nbformat": 4,
 "nbformat_minor": 5
}
