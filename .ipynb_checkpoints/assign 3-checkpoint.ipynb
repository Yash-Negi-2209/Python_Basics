{
 "cells": [
  {
   "cell_type": "code",
   "execution_count": 1,
   "id": "b3d2b774",
   "metadata": {},
   "outputs": [
    {
     "name": "stdout",
     "output_type": "stream",
     "text": [
      "342\n",
      "0b101010110\n",
      "0o526\n",
      "0x156\n"
     ]
    }
   ],
   "source": [
    "n = int(input())\n",
    "bi = bin(n)\n",
    "oc = oct(n)\n",
    "hexa = hex(n)\n",
    "print(bi)\n",
    "print(oc)\n",
    "print(hexa)"
   ]
  },
  {
   "cell_type": "code",
   "execution_count": null,
   "id": "bdbadce0",
   "metadata": {},
   "outputs": [],
   "source": []
  }
 ],
 "metadata": {
  "kernelspec": {
   "display_name": "Python 3",
   "language": "python",
   "name": "python3"
  },
  "language_info": {
   "codemirror_mode": {
    "name": "ipython",
    "version": 3
   },
   "file_extension": ".py",
   "mimetype": "text/x-python",
   "name": "python",
   "nbconvert_exporter": "python",
   "pygments_lexer": "ipython3",
   "version": "3.8.8"
  }
 },
 "nbformat": 4,
 "nbformat_minor": 5
}
