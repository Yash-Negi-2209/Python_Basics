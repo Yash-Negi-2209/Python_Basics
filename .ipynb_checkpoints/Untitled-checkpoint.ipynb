{
 "cells": [
  {
   "cell_type": "code",
   "execution_count": 2,
   "id": "0047d3f9",
   "metadata": {},
   "outputs": [
    {
     "name": "stdout",
     "output_type": "stream",
     "text": [
      "3\n",
      "5\n",
      "stationary\n",
      "marker\n",
      "80\n",
      "chalk\n",
      "10\n",
      "3\n",
      "communication\n",
      "phone\n",
      "250\n",
      "5\n",
      "internet\n",
      "airtel\n",
      "100\n",
      "jio\n",
      "80\n",
      "(('stationary', 90), ('communication', 250), ('internet', 180))\n"
     ]
    }
   ],
   "source": [
    "t=int(input())\n",
    "l=[]\n",
    "tup=[]\n",
    "cost=0\n",
    "while t>0:\n",
    "    items=int(input())\n",
    "    key=input()\n",
    "    for i in range(items-1):\n",
    "        a=input()\n",
    "        l.append(a)\n",
    "    for i in range(1,len(l),2):\n",
    "        cost+= int(l[i])\n",
    "    tup1=(key,cost)\n",
    "    tup.append(tup1)\n",
    "    l.clear()\n",
    "    cost=0\n",
    "    t=t-1\n",
    "print(tuple(tup))"
   ]
  }
 ],
 "metadata": {
  "kernelspec": {
   "display_name": "Python 3",
   "language": "python",
   "name": "python3"
  },
  "language_info": {
   "codemirror_mode": {
    "name": "ipython",
    "version": 3
   },
   "file_extension": ".py",
   "mimetype": "text/x-python",
   "name": "python",
   "nbconvert_exporter": "python",
   "pygments_lexer": "ipython3",
   "version": "3.8.8"
  }
 },
 "nbformat": 4,
 "nbformat_minor": 5
}
