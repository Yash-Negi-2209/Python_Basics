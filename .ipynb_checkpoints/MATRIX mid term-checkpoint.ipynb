{
 "cells": [
  {
   "cell_type": "code",
   "execution_count": 4,
   "id": "115b21f6",
   "metadata": {},
   "outputs": [
    {
     "name": "stdout",
     "output_type": "stream",
     "text": [
      "ENTER NUMBER OF ROWS:2\n",
      "ENTER NUMBER OF COLUMNS:2\n",
      "Enter digits in matrix :\n",
      "1\n",
      "2\n",
      "3\n",
      "4\n",
      "1 2 \n",
      "3 4 \n",
      "sum of 0 row: 3\n",
      "sum of 1 row: 7\n",
      "sum of 1 column: 4\n",
      "sum of 1 column: 6\n"
     ]
    }
   ],
   "source": [
    "m1 = int(input('ENTER NUMBER OF ROWS:')) \n",
    "m2 = int(input('ENTER NUMBER OF COLUMNS:')) \n",
    "  \n",
    "matrix = [] \n",
    "\n",
    "print(\"Enter digits in matrix :\") \n",
    "\n",
    "for i in range(m1):\n",
    "    data =[] \n",
    "    for j in range(m2):\n",
    "         data.append(int(input())) \n",
    "    matrix.append(data) \n",
    "\n",
    "for i in range(m1): \n",
    "    for j in range(m2): \n",
    "        print(matrix[i][j], end = \" \") \n",
    "    print()\n",
    "\n",
    "\n",
    "\n",
    "for i in range(m1):\n",
    "    sum = 0\n",
    "    for j in range(m2): \n",
    "        sum = sum + matrix[i][j]\n",
    "    print('sum of',i,'row:',sum)\n",
    "\n",
    "for j in range(m2):\n",
    "    sum = 0\n",
    "    for i in range(m1): \n",
    "        sum = sum + matrix[i][j]\n",
    "    print('sum of',i,'column:',sum)"
   ]
  },
  {
   "cell_type": "code",
   "execution_count": null,
   "id": "52639213",
   "metadata": {},
   "outputs": [],
   "source": []
  }
 ],
 "metadata": {
  "kernelspec": {
   "display_name": "Python 3",
   "language": "python",
   "name": "python3"
  },
  "language_info": {
   "codemirror_mode": {
    "name": "ipython",
    "version": 3
   },
   "file_extension": ".py",
   "mimetype": "text/x-python",
   "name": "python",
   "nbconvert_exporter": "python",
   "pygments_lexer": "ipython3",
   "version": "3.8.8"
  }
 },
 "nbformat": 4,
 "nbformat_minor": 5
}
