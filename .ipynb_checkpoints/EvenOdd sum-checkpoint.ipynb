{
 "cells": [
  {
   "cell_type": "code",
   "execution_count": 4,
   "id": "1e95608d",
   "metadata": {},
   "outputs": [
    {
     "name": "stdout",
     "output_type": "stream",
     "text": [
      "1\n",
      "10\n",
      "Evensum: 30\n",
      "Oddsum: 25\n"
     ]
    }
   ],
   "source": [
    "n = int(input())\n",
    "m = int(input())\n",
    "even = 0\n",
    "odd = 0\n",
    "for i in range(n,m+1):\n",
    "    if i % 2 == 0:\n",
    "        even = even + i\n",
    "    else:\n",
    "        odd = odd + i\n",
    "print(\"Evensum:\",even)\n",
    "print(\"Oddsum:\",odd)\n",
    "    "
   ]
  }
 ],
 "metadata": {
  "kernelspec": {
   "display_name": "Python 3",
   "language": "python",
   "name": "python3"
  },
  "language_info": {
   "codemirror_mode": {
    "name": "ipython",
    "version": 3
   },
   "file_extension": ".py",
   "mimetype": "text/x-python",
   "name": "python",
   "nbconvert_exporter": "python",
   "pygments_lexer": "ipython3",
   "version": "3.8.8"
  }
 },
 "nbformat": 4,
 "nbformat_minor": 5
}
