{
 "cells": [
  {
   "cell_type": "code",
   "execution_count": 1,
   "id": "3c3e2303",
   "metadata": {},
   "outputs": [
    {
     "name": "stdout",
     "output_type": "stream",
     "text": [
      "2\n",
      "3\n",
      "m1\n",
      "50\n",
      "m2\n",
      "51\n",
      "m3\n",
      "49\n",
      "3\n",
      "m1\n",
      "60\n",
      "m4\n",
      "20\n",
      "m5\n",
      "50\n",
      "m1\n",
      "0\n",
      "m2\n",
      "0\n",
      "m3\n",
      "1\n",
      "m4\n",
      "1\n",
      "m5\n",
      "0\n",
      "2\n"
     ]
    }
   ],
   "source": [
    "ab=int(input())\n",
    "xx=[]\n",
    "fx=0\n",
    "sfailed=0\n",
    "tfailed=0\n",
    "while ab>0:\n",
    "    subjects1=int(input())\n",
    "    while subjects1>0:\n",
    "        subx=input()\n",
    "        mark=int(input())\n",
    "        if mark<50:\n",
    "            fx+=1\n",
    "            if sfailed==0:\n",
    "                sfailed+=1\n",
    "        if subx in xx:\n",
    "            y=xx.index(subx)\n",
    "            xx[y+1]=xx[y+1]+fx\n",
    "        else:\n",
    "            xx.append(subx)\n",
    "            xx.append(fx)\n",
    "        fx=0\n",
    "        subjects1=subjects1-1\n",
    "    tfailed+=sfailed\n",
    "    ab=ab-1\n",
    "    sfailed=0\n",
    "        \n",
    "xx.append(tfailed)\n",
    "for i in range(len(xx)):\n",
    "    print(xx[i])"
   ]
  }
 ],
 "metadata": {
  "kernelspec": {
   "display_name": "Python 3",
   "language": "python",
   "name": "python3"
  },
  "language_info": {
   "codemirror_mode": {
    "name": "ipython",
    "version": 3
   },
   "file_extension": ".py",
   "mimetype": "text/x-python",
   "name": "python",
   "nbconvert_exporter": "python",
   "pygments_lexer": "ipython3",
   "version": "3.8.8"
  }
 },
 "nbformat": 4,
 "nbformat_minor": 5
}
