{
 "cells": [
  {
   "cell_type": "code",
   "execution_count": 3,
   "id": "99f76cfb",
   "metadata": {},
   "outputs": [
    {
     "name": "stdout",
     "output_type": "stream",
     "text": [
      "9\n",
      "5 1 2 / 4 * + 3 -\n",
      "4\n"
     ]
    }
   ],
   "source": [
    "q=int(input())\n",
    "n=input().split()\n",
    "for j in range(q):\n",
    "    for i in range(q):\n",
    "        if n[i]=='+':\n",
    "            n[i]=int(n[i-1])+int(n[i-2])\n",
    "            del n[i-1:i-3]\n",
    "            break\n",
    "        if n[i]=='-':\n",
    "            n[i]=int(n[i-1])+int(n[i-2])\n",
    "            del n[i-1:i-3]\n",
    "            break\n",
    "        if n[i]=='*':\n",
    "            n[i]=int(n[i-1])+int(n[i-2])\n",
    "            del n[i-1:i-3]\n",
    "            break\n",
    "        if n[i]=='/':\n",
    "            n[i]=int(n[i-1])+int(n[i-2])\n",
    "            del n[i-1:i-3]\n",
    "            break\n",
    "        i+=1\n",
    "    j+=1\n",
    "print(int(n[0])-1)\n"
   ]
  }
 ],
 "metadata": {
  "kernelspec": {
   "display_name": "Python 3",
   "language": "python",
   "name": "python3"
  },
  "language_info": {
   "codemirror_mode": {
    "name": "ipython",
    "version": 3
   },
   "file_extension": ".py",
   "mimetype": "text/x-python",
   "name": "python",
   "nbconvert_exporter": "python",
   "pygments_lexer": "ipython3",
   "version": "3.8.8"
  }
 },
 "nbformat": 4,
 "nbformat_minor": 5
}
