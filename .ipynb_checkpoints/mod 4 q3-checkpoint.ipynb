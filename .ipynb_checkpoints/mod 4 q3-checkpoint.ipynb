{
 "cells": [
  {
   "cell_type": "code",
   "execution_count": 3,
   "id": "79c3382e",
   "metadata": {},
   "outputs": [
    {
     "name": "stdout",
     "output_type": "stream",
     "text": [
      "2\n",
      "5\n",
      "“John”  “smith”  1234  “B+”  10.03\n",
      "“Rockey”  “Jr”  6789   “A+”  40.03\n",
      "2\n",
      "1234\n",
      "[“John”, “smith”, 1234, “B+”, 10.03]\n"
     ]
    }
   ],
   "source": [
    "k=int(input())\n",
    "w=int(input())\n",
    "L_main=[]\n",
    "for i in range (k):\n",
    "    L=list(input().split())\n",
    "    L_main.append(L)\n",
    "p=int(input())\n",
    "v=int(input())\n",
    "for i in L_main:\n",
    "    if int(i[p])==v:\n",
    "        print('[%s]'%(', '.join(i)))"
   ]
  }
 ],
 "metadata": {
  "kernelspec": {
   "display_name": "Python 3",
   "language": "python",
   "name": "python3"
  },
  "language_info": {
   "codemirror_mode": {
    "name": "ipython",
    "version": 3
   },
   "file_extension": ".py",
   "mimetype": "text/x-python",
   "name": "python",
   "nbconvert_exporter": "python",
   "pygments_lexer": "ipython3",
   "version": "3.8.8"
  }
 },
 "nbformat": 4,
 "nbformat_minor": 5
}
