{
 "cells": [
  {
   "cell_type": "code",
   "execution_count": 13,
   "id": "f703d22e",
   "metadata": {},
   "outputs": [
    {
     "name": "stdout",
     "output_type": "stream",
     "text": [
      "ENTER THE NUMBER:37\n",
      "THE NUMBER IS ODD\n"
     ]
    }
   ],
   "source": [
    "n = int(input(\"ENTER THE NUMBER:\" ))\n",
    "if (n % 2) == 0:\n",
    "    print(\"THE NUMBER IS EVEN\")\n",
    "else:\n",
    "    print(\"THE NUMBER IS ODD\")"
   ]
  }
 ],
 "metadata": {
  "kernelspec": {
   "display_name": "Python 3",
   "language": "python",
   "name": "python3"
  },
  "language_info": {
   "codemirror_mode": {
    "name": "ipython",
    "version": 3
   },
   "file_extension": ".py",
   "mimetype": "text/x-python",
   "name": "python",
   "nbconvert_exporter": "python",
   "pygments_lexer": "ipython3",
   "version": "3.8.8"
  }
 },
 "nbformat": 4,
 "nbformat_minor": 5
}
