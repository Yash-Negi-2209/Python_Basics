{
 "cells": [
  {
   "cell_type": "code",
   "execution_count": 2,
   "id": "5968753e",
   "metadata": {},
   "outputs": [
    {
     "name": "stdout",
     "output_type": "stream",
     "text": [
      "enter the number of rows in m1 :2\n",
      "ENTER THE rows in m1:1,2,3\n",
      "ENTER THE rows in m1:3,4,5\n",
      "[1, 3]\n",
      "[2, 4]\n",
      "[3, 5]\n"
     ]
    }
   ],
   "source": [
    "m1=[]\n",
    "n1=int(input(\"enter the number of rows in m1 :\"))\n",
    "for i in range(n1):\n",
    "    m1app=[int(i) for i in input(\"ENTER THE rows in m1:\").split(\",\")]\n",
    "    m1.append(m1app)\n",
    "t=[]\n",
    "for i in range (len(m1[0])):\n",
    "    x=[]\n",
    "    for j in range (n1):\n",
    "        x.append(m1[j][i])\n",
    "    t.append(x)\n",
    "for i in t:\n",
    "    print(i)"
   ]
  }
 ],
 "metadata": {
  "kernelspec": {
   "display_name": "Python 3",
   "language": "python",
   "name": "python3"
  },
  "language_info": {
   "codemirror_mode": {
    "name": "ipython",
    "version": 3
   },
   "file_extension": ".py",
   "mimetype": "text/x-python",
   "name": "python",
   "nbconvert_exporter": "python",
   "pygments_lexer": "ipython3",
   "version": "3.8.8"
  }
 },
 "nbformat": 4,
 "nbformat_minor": 5
}
