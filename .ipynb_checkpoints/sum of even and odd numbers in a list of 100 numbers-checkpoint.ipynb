{
 "cells": [
  {
   "cell_type": "code",
   "execution_count": 9,
   "id": "593785f8",
   "metadata": {},
   "outputs": [
    {
     "name": "stdout",
     "output_type": "stream",
     "text": [
      "The sum of all even numbers from 1 to 100 is:\n",
      "2450\n",
      "The sum of all odd numbers in given list is :\n",
      "2500\n"
     ]
    }
   ],
   "source": [
    "a = list(range(1, 100))\n",
    "total = 0\n",
    "sum = 0\n",
    "for e in a:\n",
    "    if ( e % 2 == 0):\n",
    "        total += e\n",
    "    else:\n",
    "        sum = sum + e\n",
    "print(\"The sum of all even numbers from 1 to 100 is:\")\n",
    "print(total)\n",
    "print(\"The sum of all odd numbers in given list is :\")\n",
    "print(sum)"
   ]
  }
 ],
 "metadata": {
  "kernelspec": {
   "display_name": "Python 3",
   "language": "python",
   "name": "python3"
  },
  "language_info": {
   "codemirror_mode": {
    "name": "ipython",
    "version": 3
   },
   "file_extension": ".py",
   "mimetype": "text/x-python",
   "name": "python",
   "nbconvert_exporter": "python",
   "pygments_lexer": "ipython3",
   "version": "3.8.8"
  }
 },
 "nbformat": 4,
 "nbformat_minor": 5
}
