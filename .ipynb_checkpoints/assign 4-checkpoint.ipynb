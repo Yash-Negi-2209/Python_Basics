{
 "cells": [
  {
   "cell_type": "code",
   "execution_count": 3,
   "id": "be9567f3",
   "metadata": {},
   "outputs": [
    {
     "name": "stdout",
     "output_type": "stream",
     "text": [
      "length of side a3\n",
      "length of side b4\n",
      "length of side c5\n",
      "area of triangle is 6.00\n"
     ]
    }
   ],
   "source": [
    "a = float(input(\"length of side a\"))\n",
    "b = float(input(\"length of side b\"))\n",
    "c = float(input(\"length of side c\"))\n",
    "s = (a+b+c)/2\n",
    "ar = (s*(s-a)*(s-b)*(s-c))**0.5\n",
    "print(\"area of triangle is\", format(ar,'0.2f'))"
   ]
  }
 ],
 "metadata": {
  "kernelspec": {
   "display_name": "Python 3",
   "language": "python",
   "name": "python3"
  },
  "language_info": {
   "codemirror_mode": {
    "name": "ipython",
    "version": 3
   },
   "file_extension": ".py",
   "mimetype": "text/x-python",
   "name": "python",
   "nbconvert_exporter": "python",
   "pygments_lexer": "ipython3",
   "version": "3.8.8"
  }
 },
 "nbformat": 4,
 "nbformat_minor": 5
}
