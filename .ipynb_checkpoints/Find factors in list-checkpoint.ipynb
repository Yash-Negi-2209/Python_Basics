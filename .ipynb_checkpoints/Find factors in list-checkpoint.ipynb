{
 "cells": [
  {
   "cell_type": "code",
   "execution_count": 1,
   "id": "b7dd7565",
   "metadata": {},
   "outputs": [
    {
     "name": "stdout",
     "output_type": "stream",
     "text": [
      "ENTER THE NUMBERS SEPERATED BY SPACE:1 2 3 4 5 6 7 8 9 10 11 12 13 14 15\n",
      "enter the number u want to check the factors for: 50\n",
      "1 2 5 10 "
     ]
    }
   ],
   "source": [
    "g = [int(i) for i in input(\"ENTER THE NUMBERS SEPERATED BY SPACE:\").split(\" \")]\n",
    "n = int(input(\"enter the number u want to check the factors for: \"))\n",
    "c = 0\n",
    "for i in g:\n",
    "    if n % i == 0:\n",
    "        print(i,end=\" \")\n",
    "        c = c + 1\n",
    "else:\n",
    "    if c == 0:\n",
    "        print(\"NO FACTORS WERE FOUND\")\n",
    "        "
   ]
  }
 ],
 "metadata": {
  "kernelspec": {
   "display_name": "Python 3",
   "language": "python",
   "name": "python3"
  },
  "language_info": {
   "codemirror_mode": {
    "name": "ipython",
    "version": 3
   },
   "file_extension": ".py",
   "mimetype": "text/x-python",
   "name": "python",
   "nbconvert_exporter": "python",
   "pygments_lexer": "ipython3",
   "version": "3.8.8"
  }
 },
 "nbformat": 4,
 "nbformat_minor": 5
}
