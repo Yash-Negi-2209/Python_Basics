{
 "cells": [
  {
   "cell_type": "code",
   "execution_count": 4,
   "id": "3287a67b",
   "metadata": {},
   "outputs": [
    {
     "name": "stdout",
     "output_type": "stream",
     "text": [
      "21BCB0231\n",
      "Valid\n"
     ]
    }
   ],
   "source": [
    "import re \n",
    "n = input()\n",
    "if re.match(\"[0-9]{2}[a-zA-Z]{3}[0-9]{4}$\", n ):\n",
    "    print(\"Valid\")\n",
    "else:\n",
    "    print(\"Invalid\")"
   ]
  }
 ],
 "metadata": {
  "kernelspec": {
   "display_name": "Python 3",
   "language": "python",
   "name": "python3"
  },
  "language_info": {
   "codemirror_mode": {
    "name": "ipython",
    "version": 3
   },
   "file_extension": ".py",
   "mimetype": "text/x-python",
   "name": "python",
   "nbconvert_exporter": "python",
   "pygments_lexer": "ipython3",
   "version": "3.8.8"
  }
 },
 "nbformat": 4,
 "nbformat_minor": 5
}
