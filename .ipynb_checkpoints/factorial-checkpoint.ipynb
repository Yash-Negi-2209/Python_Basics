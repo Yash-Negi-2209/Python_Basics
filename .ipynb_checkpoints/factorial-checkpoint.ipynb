{
 "cells": [
  {
   "cell_type": "code",
   "execution_count": 7,
   "id": "6f74b9dd",
   "metadata": {},
   "outputs": [
    {
     "name": "stdout",
     "output_type": "stream",
     "text": [
      "ENTER A NUMBER WHOSE FACTORIAL IS TO BE PRINTED : 5\n",
      "THE FACTORIAL IS : 120\n"
     ]
    }
   ],
   "source": [
    "n = int(input(\"ENTER A NUMBER WHOSE FACTORIAL IS TO BE PRINTED : \"))\n",
    "if n > 0:\n",
    "    fact = 1\n",
    "    while n >= 1:\n",
    "        fact = fact*n\n",
    "        n = n - 1 \n",
    "    print(\"THE FACTORIAL IS : \" + str(fact))\n",
    "else:\n",
    "    print(\"INVALID INPUT\")"
   ]
  }
 ],
 "metadata": {
  "kernelspec": {
   "display_name": "Python 3",
   "language": "python",
   "name": "python3"
  },
  "language_info": {
   "codemirror_mode": {
    "name": "ipython",
    "version": 3
   },
   "file_extension": ".py",
   "mimetype": "text/x-python",
   "name": "python",
   "nbconvert_exporter": "python",
   "pygments_lexer": "ipython3",
   "version": "3.8.8"
  }
 },
 "nbformat": 4,
 "nbformat_minor": 5
}
