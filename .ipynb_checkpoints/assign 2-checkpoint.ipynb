{
 "cells": [
  {
   "cell_type": "code",
   "execution_count": 4,
   "id": "c1f94f3b",
   "metadata": {},
   "outputs": [
    {
     "name": "stdout",
     "output_type": "stream",
     "text": [
      "10+10j\n",
      "20+20j\n",
      "(30+30j)\n",
      "Real part is 30\n",
      "Imaginary part is 30\n"
     ]
    }
   ],
   "source": [
    "a = complex(input())\n",
    "b = complex(input())\n",
    "c = a + b\n",
    "x = c.real\n",
    "y = c.imag\n",
    "print( c )\n",
    "print(\"Real part is\", int(x))\n",
    "print(\"Imaginary part is\", int(y))"
   ]
  }
 ],
 "metadata": {
  "kernelspec": {
   "display_name": "Python 3",
   "language": "python",
   "name": "python3"
  },
  "language_info": {
   "codemirror_mode": {
    "name": "ipython",
    "version": 3
   },
   "file_extension": ".py",
   "mimetype": "text/x-python",
   "name": "python",
   "nbconvert_exporter": "python",
   "pygments_lexer": "ipython3",
   "version": "3.8.8"
  }
 },
 "nbformat": 4,
 "nbformat_minor": 5
}
