{
 "cells": [
  {
   "cell_type": "code",
   "execution_count": 4,
   "id": "7dd17449",
   "metadata": {},
   "outputs": [
    {
     "name": "stdout",
     "output_type": "stream",
     "text": [
      "ENTER THE STRING :21345\n",
      "Digit\n"
     ]
    }
   ],
   "source": [
    "import re\n",
    "regex = '^[0-9]+$'\n",
    "def check(string):\n",
    "    if(re.search(regex, string)):\n",
    "        print(\"Digit\")\n",
    "    else:\n",
    "        print(\"Not a Digit\")\n",
    "string = input(\"ENTER THE STRING :\")\n",
    "check(string)"
   ]
  }
 ],
 "metadata": {
  "kernelspec": {
   "display_name": "Python 3",
   "language": "python",
   "name": "python3"
  },
  "language_info": {
   "codemirror_mode": {
    "name": "ipython",
    "version": 3
   },
   "file_extension": ".py",
   "mimetype": "text/x-python",
   "name": "python",
   "nbconvert_exporter": "python",
   "pygments_lexer": "ipython3",
   "version": "3.8.8"
  }
 },
 "nbformat": 4,
 "nbformat_minor": 5
}
