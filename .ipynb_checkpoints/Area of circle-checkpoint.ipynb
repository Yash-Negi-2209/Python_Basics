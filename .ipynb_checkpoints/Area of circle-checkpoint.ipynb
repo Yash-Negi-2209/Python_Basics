{
 "cells": [
  {
   "cell_type": "code",
   "execution_count": 12,
   "id": "6b36a282",
   "metadata": {},
   "outputs": [
    {
     "name": "stdout",
     "output_type": "stream",
     "text": [
      "ENTER THE RADIUS OF CIRCLE IN 'cm': 5\n",
      "THE AREA OF CIRCLE IS : 78.5 cm\n"
     ]
    }
   ],
   "source": [
    "import math\n",
    "n = input(\"ENTER THE RADIUS OF CIRCLE IN 'cm': \")\n",
    "n = int(n)\n",
    "area = 3.14 * math.pow(n,2)\n",
    "print(\"THE AREA OF CIRCLE IS :\",area,\"cm\")"
   ]
  }
 ],
 "metadata": {
  "kernelspec": {
   "display_name": "Python 3",
   "language": "python",
   "name": "python3"
  },
  "language_info": {
   "codemirror_mode": {
    "name": "ipython",
    "version": 3
   },
   "file_extension": ".py",
   "mimetype": "text/x-python",
   "name": "python",
   "nbconvert_exporter": "python",
   "pygments_lexer": "ipython3",
   "version": "3.8.8"
  }
 },
 "nbformat": 4,
 "nbformat_minor": 5
}
