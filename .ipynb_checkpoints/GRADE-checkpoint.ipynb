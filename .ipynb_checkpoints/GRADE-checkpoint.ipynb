{
 "cells": [
  {
   "cell_type": "code",
   "execution_count": 5,
   "id": "5cc9190c",
   "metadata": {},
   "outputs": [
    {
     "name": "stdout",
     "output_type": "stream",
     "text": [
      "ENTER YOUR MARKS FOR 5 SUBJECTS\n",
      "98\n",
      "96\n",
      "88\n",
      "64\n",
      "78\n",
      "GRADE : A\n"
     ]
    }
   ],
   "source": [
    "print(\"ENTER YOUR MARKS FOR 5 SUBJECTS\")\n",
    "a = float(input())\n",
    "b = float(input())\n",
    "c = float(input())\n",
    "d = float(input())\n",
    "e = float(input())\n",
    "avg = ((a + b + c + d + e) / 500) * 100\n",
    "if avg >= 90:\n",
    "    print(\"GRADE : A+\")\n",
    "elif avg >= 80 and avg < 90:\n",
    "    print(\"GRADE : A\")\n",
    "elif avg >= 70 and avg < 80:\n",
    "    print(\"GRADE : B\")\n",
    "elif avg >= 60 and avg < 70:\n",
    "    print(\"GRADE : C\")\n",
    "elif avg >= 50 and avg < 60:\n",
    "    print(\"GRADE : D\")\n",
    "elif avg >= 40 and avg < 50:\n",
    "    print(\"GRADE : E\")\n",
    "else:\n",
    "    print(\"FAILED\")"
   ]
  }
 ],
 "metadata": {
  "kernelspec": {
   "display_name": "Python 3",
   "language": "python",
   "name": "python3"
  },
  "language_info": {
   "codemirror_mode": {
    "name": "ipython",
    "version": 3
   },
   "file_extension": ".py",
   "mimetype": "text/x-python",
   "name": "python",
   "nbconvert_exporter": "python",
   "pygments_lexer": "ipython3",
   "version": "3.8.8"
  }
 },
 "nbformat": 4,
 "nbformat_minor": 5
}
