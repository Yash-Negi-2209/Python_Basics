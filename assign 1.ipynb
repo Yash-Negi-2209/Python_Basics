{
 "cells": [
  {
   "cell_type": "code",
   "execution_count": 1,
   "id": "8f7abd8a",
   "metadata": {},
   "outputs": [
    {
     "name": "stdout",
     "output_type": "stream",
     "text": [
      "ENTER THE NUMBER OF DAYS HOUSEFLY LIVED:21\n",
      "THE AGE OF HOUSEFLY IN SECONDS IS: 1814400\n"
     ]
    }
   ],
   "source": [
    "n = int(input(\"ENTER THE NUMBER OF DAYS HOUSEFLY LIVED:\" ))\n",
    "age = n * 24 * 60 * 60\n",
    "print(\"THE AGE OF HOUSEFLY IN SECONDS IS:\", age)"
   ]
  },
  {
   "cell_type": "code",
   "execution_count": null,
   "id": "b1455e58",
   "metadata": {},
   "outputs": [],
   "source": []
  }
 ],
 "metadata": {
  "kernelspec": {
   "display_name": "Python 3",
   "language": "python",
   "name": "python3"
  },
  "language_info": {
   "codemirror_mode": {
    "name": "ipython",
    "version": 3
   },
   "file_extension": ".py",
   "mimetype": "text/x-python",
   "name": "python",
   "nbconvert_exporter": "python",
   "pygments_lexer": "ipython3",
   "version": "3.8.8"
  }
 },
 "nbformat": 4,
 "nbformat_minor": 5
}
