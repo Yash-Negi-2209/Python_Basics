{
 "cells": [
  {
   "cell_type": "code",
   "execution_count": 1,
   "id": "54d5aafc",
   "metadata": {},
   "outputs": [
    {
     "name": "stdout",
     "output_type": "stream",
     "text": [
      "this is outside the function\n"
     ]
    }
   ],
   "source": [
    "#A COLLECTION OF INSTRUCTIONS\n",
    "#A COLLECTION OF CODE\n",
    "def function():\n",
    "    print(\"ahhhhh\")\n",
    "    print(\"ahhhh 2\")\n",
    "print(\"this is outside the function\")"
   ]
  },
  {
   "cell_type": "code",
   "execution_count": 2,
   "id": "6e7be1ad",
   "metadata": {},
   "outputs": [
    {
     "name": "stdout",
     "output_type": "stream",
     "text": [
      "ahhhhh\n",
      "ahhhh 2\n"
     ]
    }
   ],
   "source": [
    "# to use this function or to call this function\n",
    "function()"
   ]
  },
  {
   "cell_type": "code",
   "execution_count": 3,
   "id": "93949a92",
   "metadata": {},
   "outputs": [
    {
     "name": "stdout",
     "output_type": "stream",
     "text": [
      "ahhhhh\n",
      "ahhhh 2\n",
      "ahhhhh\n",
      "ahhhh 2\n",
      "ahhhhh\n",
      "ahhhh 2\n"
     ]
    }
   ],
   "source": [
    "function()\n",
    "function()\n",
    "function()"
   ]
  },
  {
   "cell_type": "code",
   "execution_count": 4,
   "id": "6d324acf",
   "metadata": {},
   "outputs": [],
   "source": [
    "# function can also be used as a mapping\n",
    "# also as a input for an argument\n",
    "def function1(x):\n",
    "    return 2 * x"
   ]
  },
  {
   "cell_type": "code",
   "execution_count": 5,
   "id": "622fd725",
   "metadata": {},
   "outputs": [],
   "source": [
    "a = function1(3)\n",
    "# the value stored in \"a\" is called return value or output"
   ]
  },
  {
   "cell_type": "code",
   "execution_count": 6,
   "id": "8b6dbd70",
   "metadata": {},
   "outputs": [
    {
     "name": "stdout",
     "output_type": "stream",
     "text": [
      "6\n"
     ]
    }
   ],
   "source": [
    "print(a)"
   ]
  },
  {
   "cell_type": "code",
   "execution_count": 8,
   "id": "16e09f8c",
   "metadata": {},
   "outputs": [
    {
     "name": "stdout",
     "output_type": "stream",
     "text": [
      "16\n"
     ]
    }
   ],
   "source": [
    "b = function1(8)\n",
    "print(b)"
   ]
  },
  {
   "cell_type": "code",
   "execution_count": 10,
   "id": "0784001f",
   "metadata": {},
   "outputs": [
    {
     "name": "stdout",
     "output_type": "stream",
     "text": [
      "20\n"
     ]
    }
   ],
   "source": [
    "c = function1(10)\n",
    "print(c)"
   ]
  },
  {
   "cell_type": "code",
   "execution_count": 13,
   "id": "17972d74",
   "metadata": {},
   "outputs": [],
   "source": [
    "def function2(x,y):\n",
    "    return x * y"
   ]
  },
  {
   "cell_type": "code",
   "execution_count": 14,
   "id": "1ac9abe8",
   "metadata": {},
   "outputs": [],
   "source": [
    "e = function2(3,3)"
   ]
  },
  {
   "cell_type": "code",
   "execution_count": 15,
   "id": "bc468e21",
   "metadata": {},
   "outputs": [
    {
     "name": "stdout",
     "output_type": "stream",
     "text": [
      "9\n"
     ]
    }
   ],
   "source": [
    "print(e)"
   ]
  },
  {
   "cell_type": "code",
   "execution_count": 17,
   "id": "c6960ee1",
   "metadata": {},
   "outputs": [],
   "source": [
    "# a function can have any name\n",
    "def addition(x,y,z):\n",
    "    return x + y + z"
   ]
  },
  {
   "cell_type": "code",
   "execution_count": 19,
   "id": "49c8572a",
   "metadata": {},
   "outputs": [
    {
     "name": "stdout",
     "output_type": "stream",
     "text": [
      "60\n"
     ]
    }
   ],
   "source": [
    "f = addition(10,20,30)\n",
    "print(f)"
   ]
  },
  {
   "cell_type": "code",
   "execution_count": 28,
   "id": "836b9a2a",
   "metadata": {},
   "outputs": [],
   "source": [
    "def function4(x):\n",
    "    print(x)\n",
    "    print(\"still in this function\")\n",
    "    return 5 * x"
   ]
  },
  {
   "cell_type": "code",
   "execution_count": 29,
   "id": "bfdbd9ff",
   "metadata": {},
   "outputs": [
    {
     "name": "stdout",
     "output_type": "stream",
     "text": [
      "5\n",
      "still in this function\n"
     ]
    }
   ],
   "source": [
    "g = function4(5)"
   ]
  },
  {
   "cell_type": "code",
   "execution_count": 30,
   "id": "efe1eb24",
   "metadata": {},
   "outputs": [
    {
     "name": "stdout",
     "output_type": "stream",
     "text": [
      "25\n"
     ]
    }
   ],
   "source": [
    "print(g)"
   ]
  },
  {
   "cell_type": "code",
   "execution_count": 34,
   "id": "e0f3ea47",
   "metadata": {},
   "outputs": [],
   "source": [
    "# if a function does not have a return value then no need to refer the function to any varable,      \n",
    "# you can just directly type the fuction and run the value\n",
    "def function6(some_argument):\n",
    "    print(some_argument)\n",
    "    print(\"weeeee\")\n",
    "    "
   ]
  },
  {
   "cell_type": "code",
   "execution_count": 35,
   "id": "f480424b",
   "metadata": {},
   "outputs": [
    {
     "name": "stdout",
     "output_type": "stream",
     "text": [
      "8\n",
      "weeeee\n"
     ]
    }
   ],
   "source": [
    "function6(8)"
   ]
  }
 ],
 "metadata": {
  "kernelspec": {
   "display_name": "Python 3",
   "language": "python",
   "name": "python3"
  },
  "language_info": {
   "codemirror_mode": {
    "name": "ipython",
    "version": 3
   },
   "file_extension": ".py",
   "mimetype": "text/x-python",
   "name": "python",
   "nbconvert_exporter": "python",
   "pygments_lexer": "ipython3",
   "version": "3.8.8"
  }
 },
 "nbformat": 4,
 "nbformat_minor": 5
}
