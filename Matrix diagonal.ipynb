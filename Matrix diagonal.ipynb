{
 "cells": [
  {
   "cell_type": "code",
   "execution_count": 2,
   "id": "2f5f75fb",
   "metadata": {},
   "outputs": [
    {
     "name": "stdout",
     "output_type": "stream",
     "text": [
      "enter the number of rows in m1 :2\n",
      "ENTER THE rows in m1:5,6,7\n",
      "ENTER THE rows in m1:2,3,4\n",
      "PRIMARY DIAGONAL IS : [5, 3] SECONDARY DIAGONAL IS : [6, 2]\n"
     ]
    }
   ],
   "source": [
    "m1 = []\n",
    "n1 = int(input(\"enter the number of rows in m1 :\"))\n",
    "for i in range(n1):\n",
    "    m1app = [int(i) for i in input(\"ENTER THE rows in m1:\").split(\",\")]\n",
    "    m1.append(m1app)\n",
    "d1=[]\n",
    "d2=[]\n",
    "for i in range (n1):\n",
    "    for j in range (len(m1[i])):\n",
    "        if i == j:\n",
    "            d1.append(m1[i][j])\n",
    "        if (i+j) == len(m1)-1:\n",
    "            if i != (len(m1) - 1) / 2:\n",
    "                d2.append(m1[i][j])\n",
    "print(\"PRIMARY DIAGONAL IS :\",d1,\"SECONDARY DIAGONAL IS :\",d2,end=\"\\n\")"
   ]
  }
 ],
 "metadata": {
  "kernelspec": {
   "display_name": "Python 3",
   "language": "python",
   "name": "python3"
  },
  "language_info": {
   "codemirror_mode": {
    "name": "ipython",
    "version": 3
   },
   "file_extension": ".py",
   "mimetype": "text/x-python",
   "name": "python",
   "nbconvert_exporter": "python",
   "pygments_lexer": "ipython3",
   "version": "3.8.8"
  }
 },
 "nbformat": 4,
 "nbformat_minor": 5
}
