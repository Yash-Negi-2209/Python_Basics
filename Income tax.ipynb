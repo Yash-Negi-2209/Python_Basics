{
 "cells": [
  {
   "cell_type": "code",
   "execution_count": 6,
   "id": "71ce0e1c",
   "metadata": {},
   "outputs": [
    {
     "name": "stdout",
     "output_type": "stream",
     "text": [
      "95000\n",
      "0\n"
     ]
    }
   ],
   "source": [
    "n = int(input())\n",
    "tax = 0\n",
    "if n > 1000000:\n",
    "    tax =+ (4*n)/100\n",
    "elif 500000 < n <= 1000000:\n",
    "    tax =+ (2*n)/100\n",
    "elif n <= 500000:\n",
    "    tax = 0\n",
    "print(tax)"
   ]
  }
 ],
 "metadata": {
  "kernelspec": {
   "display_name": "Python 3",
   "language": "python",
   "name": "python3"
  },
  "language_info": {
   "codemirror_mode": {
    "name": "ipython",
    "version": 3
   },
   "file_extension": ".py",
   "mimetype": "text/x-python",
   "name": "python",
   "nbconvert_exporter": "python",
   "pygments_lexer": "ipython3",
   "version": "3.8.8"
  }
 },
 "nbformat": 4,
 "nbformat_minor": 5
}
