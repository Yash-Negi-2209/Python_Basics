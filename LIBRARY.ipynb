{
 "cells": [
  {
   "cell_type": "code",
   "execution_count": 1,
   "id": "62d24774",
   "metadata": {},
   "outputs": [
    {
     "name": "stdout",
     "output_type": "stream",
     "text": [
      "ENTER THE EXPECTED DATE,DD/MM/YY:22/09/21\n",
      "ENTER THE RETURN DATE,DD/MM/YY:30/09/21\n",
      "FINE: 120\n"
     ]
    }
   ],
   "source": [
    "expected_date=[int(i) for i in input(\"ENTER THE EXPECTED DATE,DD/MM/YY:\").split(\"/\")]\n",
    "return_date=[int(i) for i in input(\"ENTER THE RETURN DATE,DD/MM/YY:\").split(\"/\")]\n",
    "fine=0\n",
    "if return_date[2]>expected_date[2]:\n",
    "    fine=fine + 10000\n",
    "    print(\"FINE:\",fine)\n",
    "elif return_date[2]<expected_date[2]:\n",
    "    print(\"NO FINE\")\n",
    "elif return_date[2]==expected_date[2]: \n",
    "    if return_date[1]>expected_date[1]:\n",
    "        fine= 500 * (return_date[1]-expected_date[1])\n",
    "        print(\"FINE\",fine)\n",
    "    elif return_date[1]<expected_date[1]:\n",
    "        print(\"NO FINE\")\n",
    "    elif return_date[1]==expected_date[1]:\n",
    "        if return_date[0]>expected_date[0]:\n",
    "            fine = 15 * (return_date[0]-expected_date[0])\n",
    "            print(\"FINE:\",fine)\n",
    "        else:\n",
    "            print(\"NO FINE\")"
   ]
  }
 ],
 "metadata": {
  "kernelspec": {
   "display_name": "Python 3",
   "language": "python",
   "name": "python3"
  },
  "language_info": {
   "codemirror_mode": {
    "name": "ipython",
    "version": 3
   },
   "file_extension": ".py",
   "mimetype": "text/x-python",
   "name": "python",
   "nbconvert_exporter": "python",
   "pygments_lexer": "ipython3",
   "version": "3.8.8"
  }
 },
 "nbformat": 4,
 "nbformat_minor": 5
}
