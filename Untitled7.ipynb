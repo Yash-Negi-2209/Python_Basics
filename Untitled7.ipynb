{
 "cells": [
  {
   "cell_type": "code",
   "execution_count": 3,
   "id": "b89bf468",
   "metadata": {},
   "outputs": [
    {
     "name": "stdout",
     "output_type": "stream",
     "text": [
      "Words:yashu\n",
      "yashu yasuh yahsu yahus yaush yauhs ysahu ysauh yshau yshua ysuah ysuha yhasu yhaus yhsau yhsua yhuas yhusa yuash yuahs yusah yusha yuhas yuhsa ayshu aysuh ayhsu ayhus ayush ayuhs asyhu asyuh ashyu ashuy asuyh asuhy ahysu ahyus ahsyu ahsuy ahuys ahusy auysh auyhs ausyh aushy auhys auhsy syahu syauh syhau syhua syuah syuha sayhu sayuh sahyu sahuy sauyh sauhy shyau shyua shayu shauy shuya shuay suyah suyha suayh suahy suhya suhay hyasu hyaus hysau hysua hyuas hyusa haysu hayus hasyu hasuy hauys hausy hsyau hsyua hsayu hsauy hsuya hsuay huyas huysa huays huasy husya husay uyash uyahs uysah uysha uyhas uyhsa uaysh uayhs uasyh uashy uahys uahsy usyah usyha usayh usahy ushya ushay uhyas uhysa uhays uhasy uhsya uhsay\n"
     ]
    }
   ],
   "source": [
    "n=input(\"Words:\")\n",
    "n=list(n)\n",
    "import itertools\n",
    "l=list(itertools.permutations(iterable=n))\n",
    "l=[''.join(i) for i in l]\n",
    "print(*l)"
   ]
  }
 ],
 "metadata": {
  "kernelspec": {
   "display_name": "Python 3",
   "language": "python",
   "name": "python3"
  },
  "language_info": {
   "codemirror_mode": {
    "name": "ipython",
    "version": 3
   },
   "file_extension": ".py",
   "mimetype": "text/x-python",
   "name": "python",
   "nbconvert_exporter": "python",
   "pygments_lexer": "ipython3",
   "version": "3.8.8"
  }
 },
 "nbformat": 4,
 "nbformat_minor": 5
}
