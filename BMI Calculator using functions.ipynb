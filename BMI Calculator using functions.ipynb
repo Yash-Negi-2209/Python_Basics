{
 "cells": [
  {
   "cell_type": "code",
   "execution_count": 3,
   "id": "f4184f9c",
   "metadata": {},
   "outputs": [],
   "source": [
    "# BMI Calculator\n",
    "name1 = \"susu\"\n",
    "height_m1 = 1.1\n",
    "weight_kgs1 = 50\n",
    "\n",
    "name2 = \"poti\"\n",
    "height_m2 = 2\n",
    "weight_kgs2 = 60\n",
    "\n",
    "name3 = \"haggu\"\n",
    "height_m3 = 2.5\n",
    "weight_kgs3 = 160"
   ]
  },
  {
   "cell_type": "code",
   "execution_count": 6,
   "id": "e33b7868",
   "metadata": {},
   "outputs": [],
   "source": [
    "def BMI_calculator(name,height_m,weight_kgs):\n",
    "    print(\"--------------------------\")\n",
    "    print(\"NAME = \" + name)\n",
    "    bmi = weight_kgs / (height_m ** 2)\n",
    "    print(\"BMI = \")\n",
    "    print(bmi)\n",
    "    if bmi < 25:\n",
    "        print(\"he is not overweight\")\n",
    "    else:\n",
    "        print(\"he is overweight\")\n",
    "    print(\"---------------------------\")"
   ]
  },
  {
   "cell_type": "code",
   "execution_count": 7,
   "id": "c731b899",
   "metadata": {},
   "outputs": [
    {
     "name": "stdout",
     "output_type": "stream",
     "text": [
      "--------------------------\n",
      "NAME = susu\n",
      "BMI = \n",
      "41.32231404958677\n",
      "he is overweight\n",
      "---------------------------\n",
      "--------------------------\n",
      "NAME = poti\n",
      "BMI = \n",
      "15.0\n",
      "he is not overweight\n",
      "---------------------------\n",
      "--------------------------\n",
      "NAME = haggu\n",
      "BMI = \n",
      "25.6\n",
      "he is overweight\n",
      "---------------------------\n"
     ]
    }
   ],
   "source": [
    "result1 = BMI_calculator(name1,height_m1,weight_kgs1)\n",
    "result2 = BMI_calculator(name2,height_m2,weight_kgs2)\n",
    "result3 = BMI_calculator(name3,height_m3,weight_kgs3)"
   ]
  },
  {
   "cell_type": "code",
   "execution_count": null,
   "id": "87fb8373",
   "metadata": {},
   "outputs": [],
   "source": []
  }
 ],
 "metadata": {
  "kernelspec": {
   "display_name": "Python 3",
   "language": "python",
   "name": "python3"
  },
  "language_info": {
   "codemirror_mode": {
    "name": "ipython",
    "version": 3
   },
   "file_extension": ".py",
   "mimetype": "text/x-python",
   "name": "python",
   "nbconvert_exporter": "python",
   "pygments_lexer": "ipython3",
   "version": "3.8.8"
  }
 },
 "nbformat": 4,
 "nbformat_minor": 5
}
