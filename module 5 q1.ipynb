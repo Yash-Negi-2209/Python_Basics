{
 "cells": [
  {
   "cell_type": "code",
   "execution_count": 2,
   "id": "51b3b613",
   "metadata": {},
   "outputs": [
    {
     "name": "stdout",
     "output_type": "stream",
     "text": [
      "haiii\n",
      "BAD\n"
     ]
    }
   ],
   "source": [
    "w = input('')\n",
    "w = w.lower()\n",
    "lnth = len(w)\n",
    "count = 0\n",
    "for i in range(0,lnth):\n",
    "    for j in range(0,lnth):\n",
    "        if w[i] == w[j]:\n",
    "            count += 1\n",
    "if count==len(w):\n",
    "    print('GOOD')\n",
    "else:\n",
    "    print('BAD')"
   ]
  },
  {
   "cell_type": "code",
   "execution_count": null,
   "id": "6c7c724e",
   "metadata": {},
   "outputs": [],
   "source": []
  }
 ],
 "metadata": {
  "kernelspec": {
   "display_name": "Python 3",
   "language": "python",
   "name": "python3"
  },
  "language_info": {
   "codemirror_mode": {
    "name": "ipython",
    "version": 3
   },
   "file_extension": ".py",
   "mimetype": "text/x-python",
   "name": "python",
   "nbconvert_exporter": "python",
   "pygments_lexer": "ipython3",
   "version": "3.8.8"
  }
 },
 "nbformat": 4,
 "nbformat_minor": 5
}
