{
 "cells": [
  {
   "cell_type": "code",
   "execution_count": 5,
   "id": "97433b59",
   "metadata": {},
   "outputs": [
    {
     "name": "stdout",
     "output_type": "stream",
     "text": [
      "59\n",
      "870\n",
      "900\n"
     ]
    },
    {
     "data": {
      "text/plain": [
       "(None, None)"
      ]
     },
     "execution_count": 5,
     "metadata": {},
     "output_type": "execute_result"
    }
   ],
   "source": [
    "n = int(input()) \n",
    "odd_list=[] \n",
    "even_list=[] \n",
    "def sum_(n,odd_list,even_list):\n",
    "    even_number=n if n%2==0 else 0 \n",
    "    even_list.append(even_number)\n",
    "    odd_numbers=n if n%2!=0 else 0 \n",
    "    odd_list.append(odd_numbers)\n",
    "    if n!=0:\n",
    "        return sum_(n - 1, odd_list, even_list) \n",
    "    else:\n",
    "        return (print(sum(even_list)),print(sum(odd_list)))\n",
    "sum_(n,odd_list,even_list)"
   ]
  }
 ],
 "metadata": {
  "kernelspec": {
   "display_name": "Python 3",
   "language": "python",
   "name": "python3"
  },
  "language_info": {
   "codemirror_mode": {
    "name": "ipython",
    "version": 3
   },
   "file_extension": ".py",
   "mimetype": "text/x-python",
   "name": "python",
   "nbconvert_exporter": "python",
   "pygments_lexer": "ipython3",
   "version": "3.8.8"
  }
 },
 "nbformat": 4,
 "nbformat_minor": 5
}
