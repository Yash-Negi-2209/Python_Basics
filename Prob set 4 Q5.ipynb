{
 "cells": [
  {
   "cell_type": "code",
   "execution_count": 7,
   "id": "2f020b67",
   "metadata": {},
   "outputs": [
    {
     "name": "stdout",
     "output_type": "stream",
     "text": [
      "ENTER THE NUMBER :5\n",
      "FACTORIAL IS 120\n"
     ]
    }
   ],
   "source": [
    "def facto(n):\n",
    "    if n == 1:\n",
    "        return n\n",
    "    else:\n",
    "        return n*facto(n-1)\n",
    "n = int(input(\"ENTER THE NUMBER :\"))\n",
    "if n < 0:\n",
    "    print(\"INVALID INPUT\")\n",
    "elif n == 0:\n",
    "    print(\"FACTORIAL IS 1\")\n",
    "else:\n",
    "    print(\"FACTORIAL IS \" + str(facto(n)))"
   ]
  }
 ],
 "metadata": {
  "kernelspec": {
   "display_name": "Python 3",
   "language": "python",
   "name": "python3"
  },
  "language_info": {
   "codemirror_mode": {
    "name": "ipython",
    "version": 3
   },
   "file_extension": ".py",
   "mimetype": "text/x-python",
   "name": "python",
   "nbconvert_exporter": "python",
   "pygments_lexer": "ipython3",
   "version": "3.8.8"
  }
 },
 "nbformat": 4,
 "nbformat_minor": 5
}
