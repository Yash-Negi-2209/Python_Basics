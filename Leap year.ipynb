{
 "cells": [
  {
   "cell_type": "code",
   "execution_count": 2,
   "id": "32dffb94",
   "metadata": {},
   "outputs": [
    {
     "name": "stdout",
     "output_type": "stream",
     "text": [
      "Enter the year: 2012\n",
      "Given Year is a leap Year\n"
     ]
    }
   ],
   "source": [
    "Y = int(input(\"Enter the year: \"))\n",
    "if((Y % 400 == 0) or (Y % 100 != 0) and (Y % 4 == 0)):   \n",
    "    print(\"Given Year is a leap Year\")  \n",
    "else:  \n",
    "    print (\"Given Year is not a leap Year\") "
   ]
  }
 ],
 "metadata": {
  "kernelspec": {
   "display_name": "Python 3",
   "language": "python",
   "name": "python3"
  },
  "language_info": {
   "codemirror_mode": {
    "name": "ipython",
    "version": 3
   },
   "file_extension": ".py",
   "mimetype": "text/x-python",
   "name": "python",
   "nbconvert_exporter": "python",
   "pygments_lexer": "ipython3",
   "version": "3.8.8"
  }
 },
 "nbformat": 4,
 "nbformat_minor": 5
}
