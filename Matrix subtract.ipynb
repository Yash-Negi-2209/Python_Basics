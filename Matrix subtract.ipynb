{
 "cells": [
  {
   "cell_type": "code",
   "execution_count": 1,
   "id": "0d3b65f2",
   "metadata": {},
   "outputs": [
    {
     "name": "stdout",
     "output_type": "stream",
     "text": [
      "enter the number of rows in m1 and m2:2\n",
      "ENTER THE rows in m1:1,2,3\n",
      "ENTER THE rows in m1:2,3,4\n",
      "ENTER THE rows in m2:4,5,6\n",
      "ENTER THE rows in m2:5,6,7\n",
      "[-3, -3]\n",
      "[-3, -3]\n"
     ]
    }
   ],
   "source": [
    "m1=[]\n",
    "n=int(input(\"enter the number of rows in m1 and m2:\"))\n",
    "for i in range(n):\n",
    "    m1app=[int(i) for i in input(\"ENTER THE rows in m1:\").split(\",\")]\n",
    "    m1.append(m1app)\n",
    "m2=[]\n",
    "\n",
    "for i in range(n):\n",
    "    m2app=[int(i) for i in input(\"ENTER THE rows in m2:\").split(\",\")]\n",
    "    m2.append(m2app)\n",
    "sub=[]\n",
    "for i in range(n):\n",
    "    l=[]\n",
    "    for j in range (n):\n",
    "        l.append(m1[i][j]-m2[i][j])\n",
    "    sub.append(l)\n",
    "for i in sub:\n",
    "    print(i)"
   ]
  }
 ],
 "metadata": {
  "kernelspec": {
   "display_name": "Python 3",
   "language": "python",
   "name": "python3"
  },
  "language_info": {
   "codemirror_mode": {
    "name": "ipython",
    "version": 3
   },
   "file_extension": ".py",
   "mimetype": "text/x-python",
   "name": "python",
   "nbconvert_exporter": "python",
   "pygments_lexer": "ipython3",
   "version": "3.8.8"
  }
 },
 "nbformat": 4,
 "nbformat_minor": 5
}
