{
 "cells": [
  {
   "cell_type": "code",
   "execution_count": 4,
   "id": "60d597c4",
   "metadata": {},
   "outputs": [
    {
     "name": "stdout",
     "output_type": "stream",
     "text": [
      "ENTER YOUR AGE:20\n",
      "YOU ARE ELIGIBLE TO VOTE\n"
     ]
    }
   ],
   "source": [
    "n = int(input(\"ENTER YOUR AGE:\" ))\n",
    "if n >= 18:\n",
    "    print(\"YOU ARE ELIGIBLE TO VOTE\")\n",
    "else:\n",
    "    print(\"YOU ARE NOT ELIGIBLE TO VOTE\")"
   ]
  }
 ],
 "metadata": {
  "kernelspec": {
   "display_name": "Python 3",
   "language": "python",
   "name": "python3"
  },
  "language_info": {
   "codemirror_mode": {
    "name": "ipython",
    "version": 3
   },
   "file_extension": ".py",
   "mimetype": "text/x-python",
   "name": "python",
   "nbconvert_exporter": "python",
   "pygments_lexer": "ipython3",
   "version": "3.8.8"
  }
 },
 "nbformat": 4,
 "nbformat_minor": 5
}
