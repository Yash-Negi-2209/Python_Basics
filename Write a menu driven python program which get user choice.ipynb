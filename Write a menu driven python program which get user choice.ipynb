{
 "cells": [
  {
   "cell_type": "code",
   "execution_count": 2,
   "id": "0477411a",
   "metadata": {},
   "outputs": [
    {
     "name": "stdout",
     "output_type": "stream",
     "text": [
      "PRESS 1 FOR ADDITION. PRESS 2 FOR SUBTRACTION. PRESS 3 FOR MULTIPLICATION. PRESS 4 FOR DIVISION.\n",
      "4\n",
      "ENTER THE FIRST NUMBER : 50\n",
      "ENTER THE SECOND NUMBER : 5\n",
      "10.0\n"
     ]
    }
   ],
   "source": [
    "print(\"PRESS 1 FOR ADDITION. PRESS 2 FOR SUBTRACTION. PRESS 3 FOR MULTIPLICATION. PRESS 4 FOR DIVISION.\")\n",
    "con = int(input())\n",
    "while con:\n",
    "    if con == 1:\n",
    "        a1 = float(input(\"ENTER THE FIRST NUMBER : \"))\n",
    "        a2 = float(input(\"ENTER THE SECOND NUMBER : \"))\n",
    "        print( a1 + a2 )\n",
    "        break\n",
    "    elif con == 2:\n",
    "        a1 = float(input(\"ENTER THE FIRST NUMBER : \"))\n",
    "        a2 = float(input(\"ENTER THE SECOND NUMBER : \"))\n",
    "        print( a1 - a2 )\n",
    "        break\n",
    "    elif con == 3:\n",
    "        a1 = float(input(\"ENTER THE FIRST NUMBER : \"))\n",
    "        a2 = float(input(\"ENTER THE SECOND NUMBER : \"))\n",
    "        print( a1 * a2 )\n",
    "        break\n",
    "    elif con == 4:\n",
    "        a1 = float(input(\"ENTER THE FIRST NUMBER : \"))\n",
    "        a2 = float(input(\"ENTER THE SECOND NUMBER : \"))\n",
    "        print( a1 / a2 )\n",
    "        break"
   ]
  }
 ],
 "metadata": {
  "kernelspec": {
   "display_name": "Python 3",
   "language": "python",
   "name": "python3"
  },
  "language_info": {
   "codemirror_mode": {
    "name": "ipython",
    "version": 3
   },
   "file_extension": ".py",
   "mimetype": "text/x-python",
   "name": "python",
   "nbconvert_exporter": "python",
   "pygments_lexer": "ipython3",
   "version": "3.8.8"
  }
 },
 "nbformat": 4,
 "nbformat_minor": 5
}
