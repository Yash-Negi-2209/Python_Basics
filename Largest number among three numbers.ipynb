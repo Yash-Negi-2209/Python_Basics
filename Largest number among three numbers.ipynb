{
 "cells": [
  {
   "cell_type": "code",
   "execution_count": 3,
   "id": "0b64f194",
   "metadata": {},
   "outputs": [
    {
     "name": "stdout",
     "output_type": "stream",
     "text": [
      "Enter first number: 7\n",
      "Enter second number: 7\n",
      "Enter third number: 9\n",
      "The largest number is 9\n"
     ]
    }
   ],
   "source": [
    "\n",
    "n1 = int(input(\"Enter first number: \"))\n",
    "n2 = int(input(\"Enter second number: \"))\n",
    "n3 = int(input(\"Enter third number: \"))\n",
    "\n",
    "if (n1 >= n2) and (n1 >= n3):\n",
    "   a = n1\n",
    "elif (n2 >= n1) and (n2 >= n3):\n",
    "   a = n2\n",
    "else:\n",
    "   a = n3\n",
    "\n",
    "print(\"The largest number is\", a )"
   ]
  }
 ],
 "metadata": {
  "kernelspec": {
   "display_name": "Python 3",
   "language": "python",
   "name": "python3"
  },
  "language_info": {
   "codemirror_mode": {
    "name": "ipython",
    "version": 3
   },
   "file_extension": ".py",
   "mimetype": "text/x-python",
   "name": "python",
   "nbconvert_exporter": "python",
   "pygments_lexer": "ipython3",
   "version": "3.8.8"
  }
 },
 "nbformat": 4,
 "nbformat_minor": 5
}
