{
 "cells": [
  {
   "cell_type": "code",
   "execution_count": 3,
   "id": "e4d31e05",
   "metadata": {},
   "outputs": [
    {
     "name": "stdout",
     "output_type": "stream",
     "text": [
      "Enter the line you want to insert after 2nd line: My name is YASH\n",
      " \n",
      "Before insertion \n",
      "\n",
      " Hii friend\n",
      "How are you\n",
      "Nice to meet you\n",
      "nice day !\n",
      "Thanks\n",
      "hey man\n",
      "bye friend\n",
      "\n",
      " After Insertion \n",
      "\n",
      " Hii friend\n",
      "How are you\n",
      "My name is YASH\n",
      "Nice to meet you\n",
      "nice day !\n",
      "Thanks\n",
      "hey man\n",
      "bye friend\n"
     ]
    }
   ],
   "source": [
    "fp=open(\"insert.txt\",\"w+\")\n",
    "fp.writelines([\"Hii friend\\n\",\"How are you\\n\",\"Nice to meet you\\n\",\"nice day !\\n\",\"Thanks\\n\",\"hey man\\n\",\"bye friend\"])\n",
    "fp.close()\n",
    "line=input(\"Enter the line you want to insert after 2nd line: \") \n",
    "fp=open(\"insert.txt\",\"r+\")\n",
    "a=fp.readlines() \n",
    "fp.seek(0,0)\n",
    "print(\" \")\n",
    "print(\"Before insertion \\n\\n\",fp.read())\n",
    "a.insert(2,line+\"\\n\")\n",
    "fp.close() \n",
    "fp=open(\"insert.txt\",\"w+\")\n",
    "fp.writelines(a)\n",
    "fp.close()\n",
    "fh=open(\"insert.txt\",\"r\")\n",
    "print(\"\\n After Insertion \\n\\n\",fh.read())"
   ]
  }
 ],
 "metadata": {
  "kernelspec": {
   "display_name": "Python 3",
   "language": "python",
   "name": "python3"
  },
  "language_info": {
   "codemirror_mode": {
    "name": "ipython",
    "version": 3
   },
   "file_extension": ".py",
   "mimetype": "text/x-python",
   "name": "python",
   "nbconvert_exporter": "python",
   "pygments_lexer": "ipython3",
   "version": "3.8.8"
  }
 },
 "nbformat": 4,
 "nbformat_minor": 5
}
