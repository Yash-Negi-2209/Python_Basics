{
 "cells": [
  {
   "cell_type": "code",
   "execution_count": 6,
   "id": "5dbcb447",
   "metadata": {},
   "outputs": [
    {
     "name": "stdout",
     "output_type": "stream",
     "text": [
      "10\n"
     ]
    }
   ],
   "source": [
    "# sum of list[1, 2, 3, 4].\n",
    "total = 0\n",
    "a = 1\n",
    "while a < 5:\n",
    "    total += a\n",
    "    a += 1\n",
    "print(total)"
   ]
  },
  {
   "cell_type": "code",
   "execution_count": 8,
   "id": "da19b620",
   "metadata": {},
   "outputs": [
    {
     "name": "stdout",
     "output_type": "stream",
     "text": [
      "21\n"
     ]
    }
   ],
   "source": [
    "# sum of all positive numbers present in list.\n",
    "xyz = [1, 2, 4, 6, 8, -2, -5, -9]\n",
    "total = 0\n",
    "i = 0\n",
    "while xyz[i] > 0:\n",
    "    total += xyz[i]\n",
    "    i += 1\n",
    "print(total)\n",
    "# but this is valid only if one or more than one negative numbers are present."
   ]
  },
  {
   "cell_type": "code",
   "execution_count": 11,
   "id": "bef172ec",
   "metadata": {},
   "outputs": [
    {
     "name": "stdout",
     "output_type": "stream",
     "text": [
      "28\n"
     ]
    }
   ],
   "source": [
    "# to correct the above mistake, we have to limit the value of i in loop.\n",
    "abc = [3, 6, 2, 8, 9]\n",
    "total = 0\n",
    "i = 0\n",
    "while i < len(abc) and abc[i] > 0:\n",
    "    total += abc[i]\n",
    "    i += 1\n",
    "print(total)"
   ]
  },
  {
   "cell_type": "code",
   "execution_count": 13,
   "id": "0cfdddb4",
   "metadata": {},
   "outputs": [
    {
     "name": "stdout",
     "output_type": "stream",
     "text": [
      "6\n"
     ]
    }
   ],
   "source": [
    "# length is a predefined funtion.\n",
    "w = [2, 3, 3, 1, 8, 9]\n",
    "print(len(w))"
   ]
  },
  {
   "cell_type": "code",
   "execution_count": 16,
   "id": "c81278e0",
   "metadata": {},
   "outputs": [
    {
     "name": "stdout",
     "output_type": "stream",
     "text": [
      "20\n"
     ]
    }
   ],
   "source": [
    "# we can also use for loop instead of while loop.\n",
    "q = [1, 3, 9, 5, 2, -4, -1, -7]\n",
    "total = 0\n",
    "for e in q:\n",
    "    if e <= 0:\n",
    "        break\n",
    "    total += e\n",
    "print(total)\n",
    "    "
   ]
  }
 ],
 "metadata": {
  "kernelspec": {
   "display_name": "Python 3",
   "language": "python",
   "name": "python3"
  },
  "language_info": {
   "codemirror_mode": {
    "name": "ipython",
    "version": 3
   },
   "file_extension": ".py",
   "mimetype": "text/x-python",
   "name": "python",
   "nbconvert_exporter": "python",
   "pygments_lexer": "ipython3",
   "version": "3.8.8"
  }
 },
 "nbformat": 4,
 "nbformat_minor": 5
}
