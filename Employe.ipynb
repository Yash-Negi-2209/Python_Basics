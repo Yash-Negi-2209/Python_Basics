{
 "cells": [
  {
   "cell_type": "code",
   "execution_count": null,
   "id": "f3e5757b",
   "metadata": {},
   "outputs": [],
   "source": []
  },
  {
   "cell_type": "code",
   "execution_count": 6,
   "id": "9328698c",
   "metadata": {},
   "outputs": [
    {
     "ename": "NameError",
     "evalue": "name 'Path' is not defined",
     "output_type": "error",
     "traceback": [
      "\u001b[1;31m---------------------------------------------------------------------------\u001b[0m",
      "\u001b[1;31mNameError\u001b[0m                                 Traceback (most recent call last)",
      "\u001b[1;32m<ipython-input-6-3d076dbc77e6>\u001b[0m in \u001b[0;36m<module>\u001b[1;34m\u001b[0m\n\u001b[0;32m      1\u001b[0m \u001b[1;31m#region 1\u001b[0m\u001b[1;33m\u001b[0m\u001b[1;33m\u001b[0m\u001b[1;33m\u001b[0m\u001b[0m\n\u001b[1;32m----> 2\u001b[1;33m \u001b[0mfile\u001b[0m \u001b[1;33m=\u001b[0m \u001b[0mPath\u001b[0m\u001b[1;33m(\u001b[0m\u001b[1;34m\"employe.txt\"\u001b[0m\u001b[1;33m)\u001b[0m\u001b[1;33m\u001b[0m\u001b[1;33m\u001b[0m\u001b[0m\n\u001b[0m\u001b[0;32m      3\u001b[0m \u001b[1;32mif\u001b[0m \u001b[1;32mnot\u001b[0m \u001b[0mfile\u001b[0m\u001b[1;33m.\u001b[0m\u001b[0mis_file\u001b[0m\u001b[1;33m(\u001b[0m\u001b[1;33m)\u001b[0m\u001b[1;33m:\u001b[0m\u001b[1;33m\u001b[0m\u001b[1;33m\u001b[0m\u001b[0m\n\u001b[0;32m      4\u001b[0m     \u001b[0mf\u001b[0m\u001b[1;33m=\u001b[0m\u001b[0mopen\u001b[0m\u001b[1;33m(\u001b[0m\u001b[1;34m\"employe.txt\"\u001b[0m\u001b[1;33m,\u001b[0m\u001b[1;34m'x'\u001b[0m\u001b[1;33m)\u001b[0m\u001b[1;33m\u001b[0m\u001b[1;33m\u001b[0m\u001b[0m\n\u001b[0;32m      5\u001b[0m     \u001b[0mf\u001b[0m\u001b[1;33m.\u001b[0m\u001b[0mclose\u001b[0m\u001b[1;33m(\u001b[0m\u001b[1;33m)\u001b[0m\u001b[1;33m\u001b[0m\u001b[1;33m\u001b[0m\u001b[0m\n",
      "\u001b[1;31mNameError\u001b[0m: name 'Path' is not defined"
     ]
    }
   ],
   "source": [
    "file = Path(\"employe.txt\")\n",
    "if not file.is_file():\n",
    "    f=open(\"employe.txt\",'x')\n",
    "    f.close()\n",
    "f=open(\"employe.txt\",'a')\n",
    "data=input(\"db> \")\n",
    "data=data.split(',')\n",
    "data=f'{data[0]},{data[1]},{data[2]},{data[3]},{data[4]},{data[5]},{data[6]}\\n'\n",
    "\n",
    "f.writelines(data)\n",
    "print(\"data inserted sucessfully!\")\n",
    "f.close()\n",
    "f=open(\"employe.txt\")\n",
    "r=[]\n",
    "for i in f.readlines():\n",
    "    r.append(i.split(','))\n",
    "print(\"---------EMPLOYEES WITH >50000 SALARY-----------\")\n",
    "for i in r:\n",
    "    if float(i[5])>50000:\n",
    "        print(i[1])\n",
    "f.close()\n",
    "f=open(\"employe.txt\")\n",
    "r=[]\n",
    "d={}\n",
    "for i in f.readlines():\n",
    "    r.append(i.split(','))\n",
    "print(\"---------EMPLOYEES IN SAME DEPARTMENT-----------\")\n",
    "for i in r:\n",
    "    d[i[4]]=[]\n",
    "for i in r:\n",
    "    d[i[4]].append(i[1])\n",
    "for i,j in zip(d.keys(),d.values()):\n",
    "    w=','.join(j)\n",
    "    print(f'{i:<20}:{w:<20}')\n",
    "f.close()\n",
    "f=open(\"employe.txt\")\n",
    "r=[]\n",
    "for i in f.readlines():\n",
    "    r.append(i.split(','))\n",
    "print(\"---------EMPLOYEES WITH >35000 SALARY and MIN. 3 YRS EXP.-----------\")\n",
    "\n",
    "for i in r:\n",
    "    if float(i[5])>35000 and float(i[6])>=3:\n",
    "        print(i[1])\n",
    "f.close()"
   ]
  }
 ],
 "metadata": {
  "kernelspec": {
   "display_name": "Python 3",
   "language": "python",
   "name": "python3"
  },
  "language_info": {
   "codemirror_mode": {
    "name": "ipython",
    "version": 3
   },
   "file_extension": ".py",
   "mimetype": "text/x-python",
   "name": "python",
   "nbconvert_exporter": "python",
   "pygments_lexer": "ipython3",
   "version": "3.8.8"
  }
 },
 "nbformat": 4,
 "nbformat_minor": 5
}
