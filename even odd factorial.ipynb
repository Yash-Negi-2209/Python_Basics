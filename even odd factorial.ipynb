{
 "cells": [
  {
   "cell_type": "code",
   "execution_count": 1,
   "id": "b02b25b0",
   "metadata": {},
   "outputs": [
    {
     "name": "stdout",
     "output_type": "stream",
     "text": [
      "5\n",
      "1   1\n",
      "3   6\n",
      "5   120\n"
     ]
    }
   ],
   "source": [
    "import math\n",
    "a=int(input())\n",
    "if a>=0:\n",
    "    i=0\n",
    "    if a%2==0:\n",
    "        while(i!=a):\n",
    "            i=i+1\n",
    "            if i%2==0:\n",
    "                print(i,\" \",math.factorial(i))\n",
    "            elif i%2!=0:\n",
    "                pass\n",
    "    elif a%2!=0:\n",
    "        while(i!=a+1):\n",
    "            i=i+1\n",
    "            if i%2!=0:\n",
    "                print(i,\" \",math.factorial(i))\n",
    "            elif i%2==0:\n",
    "                pass\n",
    "elif a<0:\n",
    "    print(\"Enter the positive number\")"
   ]
  }
 ],
 "metadata": {
  "kernelspec": {
   "display_name": "Python 3",
   "language": "python",
   "name": "python3"
  },
  "language_info": {
   "codemirror_mode": {
    "name": "ipython",
    "version": 3
   },
   "file_extension": ".py",
   "mimetype": "text/x-python",
   "name": "python",
   "nbconvert_exporter": "python",
   "pygments_lexer": "ipython3",
   "version": "3.8.8"
  }
 },
 "nbformat": 4,
 "nbformat_minor": 5
}
