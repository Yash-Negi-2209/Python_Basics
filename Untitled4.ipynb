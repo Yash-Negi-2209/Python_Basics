{
 "cells": [
  {
   "cell_type": "code",
   "execution_count": 2,
   "id": "0c084545",
   "metadata": {},
   "outputs": [
    {
     "name": "stdout",
     "output_type": "stream",
     "text": [
      "\n",
      "Finding Sum of each row:\n",
      "\n",
      "Sum of the row 0 = 10.0\n",
      "Sum of the row 1 = 26.0\n",
      "Sum of the row 2 = 42.0\n",
      "Sum of the row 3 = 58.0\n",
      "\n",
      "Finding Sum of each column:\n",
      "\n",
      "Sum of the column 0 = 28.0\n",
      "Sum of the column 1 = 32.0\n",
      "Sum of the column 2 = 36.0\n",
      "Sum of the column 3 = 40.0\n"
     ]
    }
   ],
   "source": [
    "import numpy as np\n",
    "\n",
    "m , n = 4, 4\n",
    "\n",
    "def row_sum(arr) :\n",
    "    sum = 0\n",
    "    print(\"\\nFinding Sum of each row:\\n\")\n",
    "    for i in range(m) :\n",
    "        for j in range(n):\n",
    "            sum += arr[i][j]\n",
    "        print(\"Sum of the row\",i,\"=\",sum)\n",
    "        sum = 0\n",
    "\n",
    "def column_sum(arr) :\n",
    "    sum = 0\n",
    "    print(\"\\nFinding Sum of each column:\\n\")\n",
    "    for i in range(m):\n",
    "        for j in range(n):\n",
    "            sum += arr[j][i]\n",
    "        print(\"Sum of the column\",i,\"=\",sum)\n",
    "        sum = 0\n",
    "\n",
    "if __name__ == \"__main__\" :\n",
    "    arr = np.zeros((4, 4))\n",
    "    x = 1\n",
    "    for i in range(m) :\n",
    "        for j in range(n) :\n",
    "            arr[i][j] = x\n",
    "            x += 1\n",
    "    row_sum(arr)\n",
    "    column_sum(arr)"
   ]
  },
  {
   "cell_type": "code",
   "execution_count": null,
   "id": "a804d1c2",
   "metadata": {},
   "outputs": [],
   "source": []
  }
 ],
 "metadata": {
  "kernelspec": {
   "display_name": "Python 3",
   "language": "python",
   "name": "python3"
  },
  "language_info": {
   "codemirror_mode": {
    "name": "ipython",
    "version": 3
   },
   "file_extension": ".py",
   "mimetype": "text/x-python",
   "name": "python",
   "nbconvert_exporter": "python",
   "pygments_lexer": "ipython3",
   "version": "3.8.8"
  }
 },
 "nbformat": 4,
 "nbformat_minor": 5
}
